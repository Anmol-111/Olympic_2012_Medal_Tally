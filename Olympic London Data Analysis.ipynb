{
 "cells": [
  {
   "cell_type": "markdown",
   "id": "03a4c530-4f8e-481b-9b23-4df6eab1eb53",
   "metadata": {},
   "source": [
    "## CASE STUDEY: Olympic 2012 Medal Tally"
   ]
  },
  {
   "cell_type": "code",
   "execution_count": 3,
   "id": "bfc62091-d8b3-4e3a-b0c2-4a9c6afda7cc",
   "metadata": {},
   "outputs": [],
   "source": [
    "import pandas as pd\n",
    "import numpy as np"
   ]
  },
  {
   "cell_type": "code",
   "execution_count": 4,
   "id": "6615a53f-29dd-4c7b-a116-411a608a732c",
   "metadata": {},
   "outputs": [],
   "source": [
    "dataframe = pd.read_excel('Olympic 2012 Medal Tally.xlsx', names=['column1', 'Country', 'Country_Code', 'year','Gold','Silver','Bronze'],skiprows=2)"
   ]
  },
  {
   "cell_type": "code",
   "execution_count": 5,
   "id": "57057185-32ad-493b-a874-e4ceb7c4d79f",
   "metadata": {},
   "outputs": [
    {
     "data": {
      "text/html": [
       "<div>\n",
       "<style scoped>\n",
       "    .dataframe tbody tr th:only-of-type {\n",
       "        vertical-align: middle;\n",
       "    }\n",
       "\n",
       "    .dataframe tbody tr th {\n",
       "        vertical-align: top;\n",
       "    }\n",
       "\n",
       "    .dataframe thead th {\n",
       "        text-align: right;\n",
       "    }\n",
       "</style>\n",
       "<table border=\"1\" class=\"dataframe\">\n",
       "  <thead>\n",
       "    <tr style=\"text-align: right;\">\n",
       "      <th></th>\n",
       "      <th>column1</th>\n",
       "      <th>Country</th>\n",
       "      <th>Country_Code</th>\n",
       "      <th>year</th>\n",
       "      <th>Gold</th>\n",
       "      <th>Silver</th>\n",
       "      <th>Bronze</th>\n",
       "    </tr>\n",
       "  </thead>\n",
       "  <tbody>\n",
       "    <tr>\n",
       "      <th>0</th>\n",
       "      <td>NaN</td>\n",
       "      <td>Great Britain</td>\n",
       "      <td>GBR</td>\n",
       "      <td>2012</td>\n",
       "      <td>29</td>\n",
       "      <td>17</td>\n",
       "      <td>19</td>\n",
       "    </tr>\n",
       "    <tr>\n",
       "      <th>1</th>\n",
       "      <td>NaN</td>\n",
       "      <td>China</td>\n",
       "      <td>CHN</td>\n",
       "      <td>2012</td>\n",
       "      <td>38</td>\n",
       "      <td>28</td>\n",
       "      <td>22</td>\n",
       "    </tr>\n",
       "    <tr>\n",
       "      <th>2</th>\n",
       "      <td>NaN</td>\n",
       "      <td>Russia</td>\n",
       "      <td>RUS</td>\n",
       "      <td>2012</td>\n",
       "      <td>24</td>\n",
       "      <td>25</td>\n",
       "      <td>32</td>\n",
       "    </tr>\n",
       "    <tr>\n",
       "      <th>3</th>\n",
       "      <td>NaN</td>\n",
       "      <td>United States</td>\n",
       "      <td>US</td>\n",
       "      <td>2012</td>\n",
       "      <td>46</td>\n",
       "      <td>28</td>\n",
       "      <td>29</td>\n",
       "    </tr>\n",
       "    <tr>\n",
       "      <th>4</th>\n",
       "      <td>NaN</td>\n",
       "      <td>Korea</td>\n",
       "      <td>KOR</td>\n",
       "      <td>2012</td>\n",
       "      <td>13</td>\n",
       "      <td>8</td>\n",
       "      <td>7</td>\n",
       "    </tr>\n",
       "    <tr>\n",
       "      <th>5</th>\n",
       "      <td>NaN</td>\n",
       "      <td>Japan</td>\n",
       "      <td>JPN</td>\n",
       "      <td>2012</td>\n",
       "      <td>7</td>\n",
       "      <td>14</td>\n",
       "      <td>17</td>\n",
       "    </tr>\n",
       "    <tr>\n",
       "      <th>6</th>\n",
       "      <td>NaN</td>\n",
       "      <td>Germany</td>\n",
       "      <td>GER</td>\n",
       "      <td>2012</td>\n",
       "      <td>11</td>\n",
       "      <td>11</td>\n",
       "      <td>14</td>\n",
       "    </tr>\n",
       "  </tbody>\n",
       "</table>\n",
       "</div>"
      ],
      "text/plain": [
       "   column1        Country Country_Code  year  Gold  Silver  Bronze\n",
       "0      NaN  Great Britain          GBR  2012    29      17      19\n",
       "1      NaN         China           CHN  2012    38      28      22\n",
       "2      NaN         Russia          RUS  2012    24      25      32\n",
       "3      NaN  United States           US  2012    46      28      29\n",
       "4      NaN          Korea          KOR  2012    13       8       7\n",
       "5      NaN          Japan          JPN  2012     7      14      17\n",
       "6      NaN        Germany          GER  2012    11      11      14"
      ]
     },
     "execution_count": 5,
     "metadata": {},
     "output_type": "execute_result"
    }
   ],
   "source": [
    "dataframe"
   ]
  },
  {
   "cell_type": "code",
   "execution_count": 6,
   "id": "b6fb3d46-7f28-4692-a35e-0cadae3b1069",
   "metadata": {},
   "outputs": [],
   "source": [
    "country_name = np.array(dataframe['Country'].values)"
   ]
  },
  {
   "cell_type": "code",
   "execution_count": 7,
   "id": "fc9ef237-cf0f-42d0-b095-02fa7ac60699",
   "metadata": {},
   "outputs": [
    {
     "data": {
      "text/plain": [
       "array(['Great Britain', 'China ', 'Russia', 'United States', 'Korea',\n",
       "       'Japan', 'Germany'], dtype=object)"
      ]
     },
     "execution_count": 7,
     "metadata": {},
     "output_type": "execute_result"
    }
   ],
   "source": [
    "country_name"
   ]
  },
  {
   "cell_type": "code",
   "execution_count": 8,
   "id": "b868e527-a242-434b-84d0-1e2b8073fbb3",
   "metadata": {},
   "outputs": [],
   "source": [
    "gold = np.array(dataframe['Gold'].values)"
   ]
  },
  {
   "cell_type": "code",
   "execution_count": 9,
   "id": "cbea52c6-0bd5-4dcb-8245-e5788e68ebfa",
   "metadata": {},
   "outputs": [
    {
     "data": {
      "text/plain": [
       "array([29, 38, 24, 46, 13,  7, 11], dtype=int64)"
      ]
     },
     "execution_count": 9,
     "metadata": {},
     "output_type": "execute_result"
    }
   ],
   "source": [
    "gold"
   ]
  },
  {
   "cell_type": "code",
   "execution_count": 10,
   "id": "d4b4f6d3-a0b1-4875-9b43-37e224ee2ef1",
   "metadata": {},
   "outputs": [],
   "source": [
    "silver = np.array(dataframe['Silver'].values)"
   ]
  },
  {
   "cell_type": "code",
   "execution_count": 11,
   "id": "a65233fa-d789-4824-a261-175f97d63c3d",
   "metadata": {},
   "outputs": [
    {
     "data": {
      "text/plain": [
       "array([17, 28, 25, 28,  8, 14, 11], dtype=int64)"
      ]
     },
     "execution_count": 11,
     "metadata": {},
     "output_type": "execute_result"
    }
   ],
   "source": [
    "silver"
   ]
  },
  {
   "cell_type": "code",
   "execution_count": 12,
   "id": "3aec40a8-38fb-4f68-82db-6d8652837d98",
   "metadata": {},
   "outputs": [],
   "source": [
    "bronze = np.array(dataframe['Bronze'].values)"
   ]
  },
  {
   "cell_type": "code",
   "execution_count": 13,
   "id": "ed045e35-c437-4b5d-a864-e06d8051ceb0",
   "metadata": {},
   "outputs": [
    {
     "data": {
      "text/plain": [
       "array([19, 22, 32, 29,  7, 17, 14], dtype=int64)"
      ]
     },
     "execution_count": 13,
     "metadata": {},
     "output_type": "execute_result"
    }
   ],
   "source": [
    "bronze"
   ]
  },
  {
   "cell_type": "markdown",
   "id": "c419f52f-2001-4310-909d-d11d5f2a4029",
   "metadata": {},
   "source": [
    "### 1. Find and print the name of the country that won maximum gold medals."
   ]
  },
  {
   "cell_type": "code",
   "execution_count": 14,
   "id": "1143f32f-52cb-42e1-b586-3b8942ddd4fb",
   "metadata": {},
   "outputs": [],
   "source": [
    "max_gold_medal = gold.argmax()"
   ]
  },
  {
   "cell_type": "code",
   "execution_count": 15,
   "id": "d4a0816e-8f69-4967-8725-654967732fbd",
   "metadata": {},
   "outputs": [],
   "source": [
    "country_name_won_max_gold_medal = country_name[max_gold_medal]"
   ]
  },
  {
   "cell_type": "code",
   "execution_count": 16,
   "id": "0e797b5a-50b9-41b7-8f5d-4f6ca3fa807b",
   "metadata": {},
   "outputs": [
    {
     "data": {
      "text/plain": [
       "'United States'"
      ]
     },
     "execution_count": 16,
     "metadata": {},
     "output_type": "execute_result"
    }
   ],
   "source": [
    "country_name_won_max_gold_medal"
   ]
  },
  {
   "cell_type": "markdown",
   "id": "ef913600-c2bf-42c9-94cd-931d7ba445da",
   "metadata": {},
   "source": [
    "### 2. Find and print the countries who won more than 20 gold medals."
   ]
  },
  {
   "cell_type": "code",
   "execution_count": 17,
   "id": "2bdf6d28-60c2-4da6-b7f3-b880eaec28fe",
   "metadata": {},
   "outputs": [],
   "source": [
    "gold_medal_won_morethan20 = gold>20"
   ]
  },
  {
   "cell_type": "code",
   "execution_count": 18,
   "id": "d7dc2117-a772-43ac-9b82-a9e08b142812",
   "metadata": {},
   "outputs": [],
   "source": [
    "country_name_gold_medal_won_morethan20 = country_name[gold_medal_won_morethan20]"
   ]
  },
  {
   "cell_type": "code",
   "execution_count": 19,
   "id": "105d0106-3c93-4aa8-816f-3e363936a71b",
   "metadata": {},
   "outputs": [
    {
     "name": "stdout",
     "output_type": "stream",
     "text": [
      "['Great Britain' 'China ' 'Russia' 'United States']\n"
     ]
    }
   ],
   "source": [
    "print(country_name_gold_medal_won_morethan20)"
   ]
  },
  {
   "cell_type": "markdown",
   "id": "f0de129c-ee5b-46a9-aebe-a15ebd3e5519",
   "metadata": {},
   "source": [
    "### 3. Print each country name with the corresponding number of gold medals."
   ]
  },
  {
   "cell_type": "code",
   "execution_count": 20,
   "id": "5114fe2c-68d6-43c9-a7be-0e683a5e55d8",
   "metadata": {},
   "outputs": [
    {
     "name": "stdout",
     "output_type": "stream",
     "text": [
      "--> Great Britain won 29 Gold Medals.\n",
      "--> China  won 38 Gold Medals.\n",
      "--> Russia won 24 Gold Medals.\n",
      "--> United States won 46 Gold Medals.\n",
      "--> Korea won 13 Gold Medals.\n",
      "--> Japan won 7 Gold Medals.\n",
      "--> Germany won 11 Gold Medals.\n"
     ]
    }
   ],
   "source": [
    "for counter in range(len(country_name)):\n",
    "    print(\"--> {} won {} Gold Medals.\".format(country_name[counter], gold[counter]))"
   ]
  },
  {
   "cell_type": "markdown",
   "id": "2bfea36c-d603-4e5a-8449-8789bde9da00",
   "metadata": {},
   "source": [
    "### 4. Print each country name with the total number of medals won."
   ]
  },
  {
   "cell_type": "code",
   "execution_count": 22,
   "id": "e16a3897-3de5-46aa-b196-c49c15fbaef4",
   "metadata": {},
   "outputs": [
    {
     "name": "stdout",
     "output_type": "stream",
     "text": [
      "--> Great Britain won total 65 medals.\n",
      "--> China  won total 88 medals.\n",
      "--> Russia won total 81 medals.\n",
      "--> United States won total 103 medals.\n",
      "--> Korea won total 28 medals.\n",
      "--> Japan won total 38 medals.\n",
      "--> Germany won total 36 medals.\n"
     ]
    }
   ],
   "source": [
    "for counter in range(len(country_name)):\n",
    "    print(\"--> {} won total {} medals.\".format(country_name[counter], (gold[counter]+silver[counter]+bronze[counter])))"
   ]
  }
 ],
 "metadata": {
  "kernelspec": {
   "display_name": "Python 3 (ipykernel)",
   "language": "python",
   "name": "python3"
  },
  "language_info": {
   "codemirror_mode": {
    "name": "ipython",
    "version": 3
   },
   "file_extension": ".py",
   "mimetype": "text/x-python",
   "name": "python",
   "nbconvert_exporter": "python",
   "pygments_lexer": "ipython3",
   "version": "3.12.4"
  }
 },
 "nbformat": 4,
 "nbformat_minor": 5
}
